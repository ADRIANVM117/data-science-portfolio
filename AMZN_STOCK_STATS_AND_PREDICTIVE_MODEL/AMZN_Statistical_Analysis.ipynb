{
  "nbformat": 4,
  "nbformat_minor": 0,
  "metadata": {
    "colab": {
      "provenance": [],
      "include_colab_link": true
    },
    "kernelspec": {
      "name": "python3",
      "display_name": "Python 3"
    },
    "language_info": {
      "name": "python"
    }
  },
  "cells": [
    {
      "cell_type": "markdown",
      "metadata": {
        "id": "view-in-github",
        "colab_type": "text"
      },
      "source": [
        "<a href=\"https://colab.research.google.com/github/ADRIANVM117/data-science-portfolio/blob/main/AMZN_STOCK_STATS_AND_PREDICTIVE_MODEL/AMZN_Statistical_Analysis.ipynb\" target=\"_parent\"><img src=\"https://colab.research.google.com/assets/colab-badge.svg\" alt=\"Open In Colab\"/></a>"
      ]
    },
    {
      "cell_type": "markdown",
      "source": [
        "# Analisis Estadistico de la acción AMZN\n",
        "\n",
        "## índice del Análisis Estadistico de AMZN\n",
        "\n",
        "\n",
        "1. <b>Estadísticas Descriptivas </b>\n",
        "\n",
        "- Cálculo de medidas básicas: media, mediana, desviación estándar, mínimo, máximo.\n",
        "Cálculo de rendimientos diarios y su descripción estadística.\n",
        "2. <b> Distribución de los Precios y Rendimientos </b>\n",
        "- Visualización de la distribución de precios de cierre y rendimientos.\n",
        "Ajuste a distribuciones conocidas (como normal, log-normal, etc.).\n",
        "Prueba de normalidad usando Shapiro-Wilk o Jarque-Bera.\n",
        "3. <b>Volatilidad </b>\n",
        "- álculo de la volatilidad histórica: Desviación estándar de los rendimientos diarios.\n",
        "Volatilidad anualizada.\n",
        "Visualización de la volatilidad a lo largo del tiempo.\n",
        "4. <b> Modelos de Series de Tiempo </b>\n",
        "- Análisis de estacionariedad usando la prueba ADF (Augmented Dickey-Fuller).\n",
        "Autocorrelación: Cálculo de la función de autocorrelación (ACF) y autocorrelación parcial (PACF).\n",
        "Creación de un modelo de ARIMA para modelar los precios de cierre o rendimientos de AMZN.\n",
        "5. <b> Pruebas de Hipótesis </b>\n",
        "- Prueba t de Student: Comparación de la media de los rendimientos diarios con una media hipotética.\n",
        "Prueba de diferencia de medias: Comparación de medias entre diferentes periodos de tiempo (por ejemplo, rendimiento mensual vs. rendimiento anual).\n",
        "6. <b>Conclusiones </b>\n",
        "\n",
        "- Resumen de hallazgos clave.\n",
        "Implicaciones de los resultados estadísticos para el análisis de la acción de AMZN."
      ],
      "metadata": {
        "id": "TmTOjOmJEB75"
      }
    },
    {
      "cell_type": "markdown",
      "source": [
        "# <b>Importación de datos, Bibliotecas, procesamiento"
      ],
      "metadata": {
        "id": "HoS0d2dJIp-M"
      }
    },
    {
      "cell_type": "code",
      "source": [
        "import yfinance as yf\n",
        "import pandas as pd\n",
        "\n",
        "# Descargar datos históricos de AMZN\n",
        "amzn = yf.download('AMZN', start='2015-01-01', end='2022-01-30')\n",
        "\n",
        "# Mostrar las primeras filas\n",
        "amzn.head()\n"
      ],
      "metadata": {
        "id": "mL-Y9VX1IpS7"
      },
      "execution_count": null,
      "outputs": []
    },
    {
      "cell_type": "markdown",
      "source": [
        "## Estadisticas Descriptivas\n"
      ],
      "metadata": {
        "id": "v7z5LaQ4IchR"
      }
    },
    {
      "cell_type": "code",
      "execution_count": null,
      "metadata": {
        "id": "lOb7ocfOFfUd"
      },
      "outputs": [],
      "source": []
    }
  ]
}